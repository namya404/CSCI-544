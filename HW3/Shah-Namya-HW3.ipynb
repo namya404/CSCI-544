{
 "cells": [
  {
   "cell_type": "markdown",
   "metadata": {},
   "source": [
    "# Homework Assignmet 3: HMMs on Part-of-Speech tagging"
   ]
  },
  {
   "cell_type": "markdown",
   "metadata": {},
   "source": [
    "### Submitted by: Namya Hemal Shah (5953694298)"
   ]
  },
  {
   "cell_type": "markdown",
   "metadata": {},
   "source": [
    "This assignment gives you hands-on experience on using HMMs on part-of- speech tagging. We will use the Wall Street Journal section of the Penn Treebank to build an HMM model for part-of-speech tagging. In the folder named data, there are three files: train, dev and test. In the files of train and dev, we provide you with the sentences with human-annotated part-of-speech tags. In the file of test, we provide only the raw sentences that you need to predict the part-of-speech tags. The data format is that, each line contains three items separated by the tab symbol ‘\\t’. The first item is the index of the word in the sentence. The second item is the word type and the third item is the corresponding part-of-speech tag. There will be a blank line at the end of one sentence."
   ]
  },
  {
   "cell_type": "markdown",
   "metadata": {},
   "source": [
    "# Importing Important Libraries"
   ]
  },
  {
   "cell_type": "code",
   "execution_count": 2,
   "metadata": {},
   "outputs": [
    {
     "name": "stderr",
     "output_type": "stream",
     "text": [
      "[nltk_data] Downloading package wordnet to\n",
      "[nltk_data]     /Users/namyashah/nltk_data...\n",
      "[nltk_data]   Package wordnet is already up-to-date!\n",
      "[nltk_data] Downloading package punkt to /Users/namyashah/nltk_data...\n",
      "[nltk_data]   Package punkt is already up-to-date!\n"
     ]
    },
    {
     "data": {
      "text/plain": [
       "True"
      ]
     },
     "execution_count": 2,
     "metadata": {},
     "output_type": "execute_result"
    }
   ],
   "source": [
    "import pandas as pd\n",
    "import numpy as np\n",
    "import nltk\n",
    "nltk.download('wordnet')\n",
    "nltk.download('punkt')"
   ]
  },
  {
   "cell_type": "code",
   "execution_count": 3,
   "metadata": {},
   "outputs": [],
   "source": [
    "import re"
   ]
  },
  {
   "cell_type": "code",
   "execution_count": 4,
   "metadata": {},
   "outputs": [],
   "source": [
    "from collections import Counter"
   ]
  },
  {
   "cell_type": "code",
   "execution_count": 43,
   "metadata": {},
   "outputs": [],
   "source": [
    "from decimal import *"
   ]
  },
  {
   "cell_type": "code",
   "execution_count": 5,
   "metadata": {},
   "outputs": [],
   "source": [
    "import seaborn as sns\n",
    "import matplotlib.pyplot as plt"
   ]
  },
  {
   "cell_type": "code",
   "execution_count": 6,
   "metadata": {},
   "outputs": [],
   "source": [
    "import os\n",
    "import json"
   ]
  },
  {
   "cell_type": "markdown",
   "metadata": {},
   "source": [
    "# Vocablary Creation"
   ]
  },
  {
   "cell_type": "markdown",
   "metadata": {},
   "source": [
    "The first task is to create a vocabulary using the training data. In HMM, one important problem when creating the vocabulary is to handle unknown words. One simple solution is to replace rare words whose occurrences are less than a threshold (e.g. 3) with a special token ‘< unk >’.\n",
    "Task. Creating a vocabulary using the training data in the file train and output the vocabulary into a txt file named vocab.txt. The format of the vocabulary file is that each line contains a word type, its index in the vocabulary and its occurrences, separated by the tab symbol ‘\\t’. The first line should be the special token ‘< unk >’ and the following lines should be sorted by its occurrences in descending order. Note that we can only use the training data to create the vocabu- lary, without touching the development and test data. What is the selected threshold for unknown words replacement? What is the total size of your vocabulary and what is the total occurrences of the special token ‘< unk >’ after replacement?"
   ]
  },
  {
   "cell_type": "code",
   "execution_count": 7,
   "metadata": {},
   "outputs": [],
   "source": [
    "# Defining the path and features\n",
    "path = '/Users/namyashah/Documents/USC Schooling/NLP/HW3/data/train'\n",
    "features = ['indexes','word','given_tags']"
   ]
  },
  {
   "cell_type": "code",
   "execution_count": 8,
   "metadata": {},
   "outputs": [
    {
     "name": "stdout",
     "output_type": "stream",
     "text": [
      "(912095, 3)\n"
     ]
    },
    {
     "data": {
      "text/html": [
       "<div>\n",
       "<style scoped>\n",
       "    .dataframe tbody tr th:only-of-type {\n",
       "        vertical-align: middle;\n",
       "    }\n",
       "\n",
       "    .dataframe tbody tr th {\n",
       "        vertical-align: top;\n",
       "    }\n",
       "\n",
       "    .dataframe thead th {\n",
       "        text-align: right;\n",
       "    }\n",
       "</style>\n",
       "<table border=\"1\" class=\"dataframe\">\n",
       "  <thead>\n",
       "    <tr style=\"text-align: right;\">\n",
       "      <th></th>\n",
       "      <th>indexes</th>\n",
       "      <th>word</th>\n",
       "      <th>given_tags</th>\n",
       "    </tr>\n",
       "  </thead>\n",
       "  <tbody>\n",
       "    <tr>\n",
       "      <th>0</th>\n",
       "      <td>1</td>\n",
       "      <td>Pierre</td>\n",
       "      <td>NNP</td>\n",
       "    </tr>\n",
       "    <tr>\n",
       "      <th>1</th>\n",
       "      <td>2</td>\n",
       "      <td>Vinken</td>\n",
       "      <td>NNP</td>\n",
       "    </tr>\n",
       "    <tr>\n",
       "      <th>2</th>\n",
       "      <td>3</td>\n",
       "      <td>,</td>\n",
       "      <td>,</td>\n",
       "    </tr>\n",
       "    <tr>\n",
       "      <th>3</th>\n",
       "      <td>4</td>\n",
       "      <td>61</td>\n",
       "      <td>CD</td>\n",
       "    </tr>\n",
       "    <tr>\n",
       "      <th>4</th>\n",
       "      <td>5</td>\n",
       "      <td>years</td>\n",
       "      <td>NNS</td>\n",
       "    </tr>\n",
       "  </tbody>\n",
       "</table>\n",
       "</div>"
      ],
      "text/plain": [
       "   indexes    word given_tags\n",
       "0        1  Pierre        NNP\n",
       "1        2  Vinken        NNP\n",
       "2        3       ,          ,\n",
       "3        4      61         CD\n",
       "4        5   years        NNS"
      ]
     },
     "execution_count": 8,
     "metadata": {},
     "output_type": "execute_result"
    }
   ],
   "source": [
    "# Reading the train dataset\n",
    "train_data = pd.read_csv(path,  sep='\\t', names = features)\n",
    "print(train_data.shape)\n",
    "train_data.head(5)"
   ]
  },
  {
   "cell_type": "markdown",
   "metadata": {},
   "source": [
    "### Data Cleaning"
   ]
  },
  {
   "cell_type": "code",
   "execution_count": 9,
   "metadata": {},
   "outputs": [],
   "source": [
    "#fix numbers\n",
    "\n",
    "def clean_nums(word):\n",
    "    word = re.sub(r'[0-9_]+','', word)\n",
    "    return ''.join(word.split())"
   ]
  },
  {
   "cell_type": "code",
   "execution_count": 10,
   "metadata": {},
   "outputs": [],
   "source": [
    "# remove characters except for alphabets and numbers\n",
    "\n",
    "def clean_punct(word):\n",
    "    word = re.sub('[\\W_]+', '', word)\n",
    "    return ''.join(word.split())"
   ]
  },
  {
   "cell_type": "code",
   "execution_count": 11,
   "metadata": {},
   "outputs": [
    {
     "data": {
      "text/html": [
       "<div>\n",
       "<style scoped>\n",
       "    .dataframe tbody tr th:only-of-type {\n",
       "        vertical-align: middle;\n",
       "    }\n",
       "\n",
       "    .dataframe tbody tr th {\n",
       "        vertical-align: top;\n",
       "    }\n",
       "\n",
       "    .dataframe thead th {\n",
       "        text-align: right;\n",
       "    }\n",
       "</style>\n",
       "<table border=\"1\" class=\"dataframe\">\n",
       "  <thead>\n",
       "    <tr style=\"text-align: right;\">\n",
       "      <th></th>\n",
       "      <th>indexes</th>\n",
       "      <th>word</th>\n",
       "      <th>given_tags</th>\n",
       "    </tr>\n",
       "  </thead>\n",
       "  <tbody>\n",
       "    <tr>\n",
       "      <th>0</th>\n",
       "      <td>1</td>\n",
       "      <td>Pierre</td>\n",
       "      <td>NNP</td>\n",
       "    </tr>\n",
       "    <tr>\n",
       "      <th>1</th>\n",
       "      <td>2</td>\n",
       "      <td>Vinken</td>\n",
       "      <td>NNP</td>\n",
       "    </tr>\n",
       "    <tr>\n",
       "      <th>2</th>\n",
       "      <td>3</td>\n",
       "      <td></td>\n",
       "      <td>,</td>\n",
       "    </tr>\n",
       "    <tr>\n",
       "      <th>3</th>\n",
       "      <td>4</td>\n",
       "      <td></td>\n",
       "      <td>CD</td>\n",
       "    </tr>\n",
       "    <tr>\n",
       "      <th>4</th>\n",
       "      <td>5</td>\n",
       "      <td>years</td>\n",
       "      <td>NNS</td>\n",
       "    </tr>\n",
       "    <tr>\n",
       "      <th>...</th>\n",
       "      <td>...</td>\n",
       "      <td>...</td>\n",
       "      <td>...</td>\n",
       "    </tr>\n",
       "    <tr>\n",
       "      <th>912090</th>\n",
       "      <td>22</td>\n",
       "      <td>to</td>\n",
       "      <td>TO</td>\n",
       "    </tr>\n",
       "    <tr>\n",
       "      <th>912091</th>\n",
       "      <td>23</td>\n",
       "      <td>San</td>\n",
       "      <td>NNP</td>\n",
       "    </tr>\n",
       "    <tr>\n",
       "      <th>912092</th>\n",
       "      <td>24</td>\n",
       "      <td>Francisco</td>\n",
       "      <td>NNP</td>\n",
       "    </tr>\n",
       "    <tr>\n",
       "      <th>912093</th>\n",
       "      <td>25</td>\n",
       "      <td>instead</td>\n",
       "      <td>RB</td>\n",
       "    </tr>\n",
       "    <tr>\n",
       "      <th>912094</th>\n",
       "      <td>26</td>\n",
       "      <td></td>\n",
       "      <td>.</td>\n",
       "    </tr>\n",
       "  </tbody>\n",
       "</table>\n",
       "<p>912095 rows × 3 columns</p>\n",
       "</div>"
      ],
      "text/plain": [
       "        indexes       word given_tags\n",
       "0             1     Pierre        NNP\n",
       "1             2     Vinken        NNP\n",
       "2             3                     ,\n",
       "3             4                    CD\n",
       "4             5      years        NNS\n",
       "...         ...        ...        ...\n",
       "912090       22         to         TO\n",
       "912091       23        San        NNP\n",
       "912092       24  Francisco        NNP\n",
       "912093       25    instead         RB\n",
       "912094       26                     .\n",
       "\n",
       "[912095 rows x 3 columns]"
      ]
     },
     "execution_count": 11,
     "metadata": {},
     "output_type": "execute_result"
    }
   ],
   "source": [
    "#removing words that are non alphabetic characters\n",
    "def process_words(words):\n",
    "    words = clean_nums(words)\n",
    "    words = clean_punct(words)\n",
    "    return(words)\n",
    "\n",
    "train_data['word'] = train_data['word'].apply(str)\n",
    "train_data['word'] = train_data['word'].apply(process_words)\n",
    "train_data"
   ]
  },
  {
   "cell_type": "code",
   "execution_count": 12,
   "metadata": {},
   "outputs": [
    {
     "name": "stdout",
     "output_type": "stream",
     "text": [
      "912095\n"
     ]
    }
   ],
   "source": [
    "# obtaining all the words in the dataset in a list\n",
    "words=(train_data['word'].str.lower()).tolist()\n",
    "print(len(words))"
   ]
  },
  {
   "cell_type": "code",
   "execution_count": 13,
   "metadata": {},
   "outputs": [
    {
     "name": "stdout",
     "output_type": "stream",
     "text": [
      "769379\n"
     ]
    }
   ],
   "source": [
    "# removing words that are blank\n",
    "temp_wd = []\n",
    "count_wd_dropped = 0\n",
    "for wd in words:\n",
    "    if wd not in '':\n",
    "        temp_wd.append(wd)\n",
    "        count_wd_dropped+=1\n",
    "words = temp_wd\n",
    "print(len(words))"
   ]
  },
  {
   "cell_type": "markdown",
   "metadata": {},
   "source": [
    "Here we remove those words that are either all numerals(for example, '123') or all non alphabetic characters(for example, '#/+') and count them as unknown words too because they hold no significance in POS tagging. The only by-product of this process is that the numeral values and non alphabetic characters within the words are also removed for example 'pier24one' is now 'pierone'."
   ]
  },
  {
   "cell_type": "code",
   "execution_count": 14,
   "metadata": {},
   "outputs": [],
   "source": [
    "# creating an object for the Counter() function from the collections library for finding occurances of each word in the train data set\n",
    "occurrences = Counter()"
   ]
  },
  {
   "cell_type": "code",
   "execution_count": 15,
   "metadata": {},
   "outputs": [],
   "source": [
    "# finding the occurance of each word in the training data set\n",
    "for word in words:\n",
    "    occurrences[word]+=1"
   ]
  },
  {
   "cell_type": "code",
   "execution_count": 16,
   "metadata": {},
   "outputs": [],
   "source": [
    "# sorting the words in the Descending Order\n",
    "occurence_dict =  dict(occurrences)\n",
    "len(occurence_dict)\n",
    "sorted_tuple = sorted(occurence_dict.items(), key = lambda x:x[1], reverse = True)\n",
    "sorted_dict = dict(sorted_tuple)"
   ]
  },
  {
   "cell_type": "code",
   "execution_count": 17,
   "metadata": {},
   "outputs": [
    {
     "data": {
      "text/html": [
       "<div>\n",
       "<style scoped>\n",
       "    .dataframe tbody tr th:only-of-type {\n",
       "        vertical-align: middle;\n",
       "    }\n",
       "\n",
       "    .dataframe tbody tr th {\n",
       "        vertical-align: top;\n",
       "    }\n",
       "\n",
       "    .dataframe thead th {\n",
       "        text-align: right;\n",
       "    }\n",
       "</style>\n",
       "<table border=\"1\" class=\"dataframe\">\n",
       "  <thead>\n",
       "    <tr style=\"text-align: right;\">\n",
       "      <th></th>\n",
       "      <th>words</th>\n",
       "      <th>occurrences</th>\n",
       "    </tr>\n",
       "  </thead>\n",
       "  <tbody>\n",
       "    <tr>\n",
       "      <th>0</th>\n",
       "      <td>the</td>\n",
       "      <td>46144</td>\n",
       "    </tr>\n",
       "    <tr>\n",
       "      <th>1</th>\n",
       "      <td>of</td>\n",
       "      <td>22176</td>\n",
       "    </tr>\n",
       "    <tr>\n",
       "      <th>2</th>\n",
       "      <td>to</td>\n",
       "      <td>21468</td>\n",
       "    </tr>\n",
       "    <tr>\n",
       "      <th>3</th>\n",
       "      <td>a</td>\n",
       "      <td>19485</td>\n",
       "    </tr>\n",
       "    <tr>\n",
       "      <th>4</th>\n",
       "      <td>in</td>\n",
       "      <td>16320</td>\n",
       "    </tr>\n",
       "  </tbody>\n",
       "</table>\n",
       "</div>"
      ],
      "text/plain": [
       "  words  occurrences\n",
       "0   the        46144\n",
       "1    of        22176\n",
       "2    to        21468\n",
       "3     a        19485\n",
       "4    in        16320"
      ]
     },
     "execution_count": 17,
     "metadata": {},
     "output_type": "execute_result"
    }
   ],
   "source": [
    "# creating a pandas data frame for the words and its ocurrances\n",
    "keys = list(sorted_dict.keys())\n",
    "vals =  list(sorted_dict.values())\n",
    "word_freq_dict =  {'words':keys, 'occurrences':vals}\n",
    "word_df = pd.DataFrame.from_dict(word_freq_dict)\n",
    "og_words_len = len(word_df)\n",
    "word_df.head(5)"
   ]
  },
  {
   "cell_type": "code",
   "execution_count": 18,
   "metadata": {},
   "outputs": [
    {
     "data": {
      "image/png": "[encoded data removed]",
      "text/plain": [
       "<Figure size 5000x1000 with 1 Axes>"
      ]
     },
     "metadata": {},
     "output_type": "display_data"
    }
   ],
   "source": [
    "# ploting the ocurrances\n",
    "\n",
    "frequency_counts = word_df.groupby('occurrences').size().reset_index(name='now')\n",
    "\n",
    "plt.figure(figsize=(50,10))\n",
    "sns.barplot(data=frequency_counts, x='occurrences', y='now', color='blue')\n",
    "plt.xlabel('Occurrences')\n",
    "plt.ylabel('Number of Words')\n",
    "plt.title('Frequency Distribution of Words')\n",
    "plt.show()"
   ]
  },
  {
   "cell_type": "code",
   "execution_count": 19,
   "metadata": {},
   "outputs": [
    {
     "name": "stdout",
     "output_type": "stream",
     "text": [
      "The lower quartile for the frequency of occurrences is  134.5\n",
      "This lower quartile for the frequency of occurrences lies in the words with occurrence  1.0\n",
      "Thus the threshold value for unknown words replacement is  1.0\n"
     ]
    }
   ],
   "source": [
    "first_quartile_value_now = frequency_counts['now'].quantile(0.25)\n",
    "first_quartile_value_occ = frequency_counts['occurrences'].quantile(0.25)\n",
    "print('The lower quartile for the frequency of occurrences is ',first_quartile_value_occ)\n",
    "print('This lower quartile for the frequency of occurrences lies in the words with occurrence ',first_quartile_value_now)\n",
    "threshold = first_quartile_value_now\n",
    "print('Thus the threshold value for unknown words replacement is ',threshold)"
   ]
  },
  {
   "cell_type": "code",
   "execution_count": 20,
   "metadata": {},
   "outputs": [
    {
     "name": "stdout",
     "output_type": "stream",
     "text": [
      "The numer of words before replacing the unknown words 802484\n",
      "The number of words after replacing the unknown words 19178\n"
     ]
    }
   ],
   "source": [
    "# creating vocabulary with the replaced unknown words\n",
    "breaking_df = word_df.loc[word_df['occurrences'] > int(threshold)]\n",
    "break_len = breaking_df.shape[0]\n",
    "temp_dict = {\n",
    "    'words':'<unk>',\n",
    "    'occurrences':og_words_len - break_len + count_wd_dropped}\n",
    "temp_df = pd.DataFrame(temp_dict, index=[0])\n",
    "\n",
    "vocabulary = pd.concat([temp_df,breaking_df], ignore_index=True, sort=False)\n",
    "print('The numer of words before replacing the unknown words',og_words_len+count_wd_dropped)\n",
    "print('The number of words after replacing the unknown words',vocabulary.shape[0])"
   ]
  },
  {
   "cell_type": "code",
   "execution_count": 21,
   "metadata": {},
   "outputs": [],
   "source": [
    "#introducing the indexes\n",
    "indexes = [i for i in range (0,vocabulary.shape[0])]\n",
    "vocabulary.insert(loc = 0, column = 'index', value = indexes)\n"
   ]
  },
  {
   "cell_type": "code",
   "execution_count": 22,
   "metadata": {},
   "outputs": [
    {
     "name": "stdout",
     "output_type": "stream",
     "text": [
      "The total size of your vocabulary is 19178\n",
      "The total occurrences of the special token ‘< unk >’ after replacement is 1552686\n"
     ]
    },
    {
     "data": {
      "text/html": [
       "<div>\n",
       "<style scoped>\n",
       "    .dataframe tbody tr th:only-of-type {\n",
       "        vertical-align: middle;\n",
       "    }\n",
       "\n",
       "    .dataframe tbody tr th {\n",
       "        vertical-align: top;\n",
       "    }\n",
       "\n",
       "    .dataframe thead th {\n",
       "        text-align: right;\n",
       "    }\n",
       "</style>\n",
       "<table border=\"1\" class=\"dataframe\">\n",
       "  <thead>\n",
       "    <tr style=\"text-align: right;\">\n",
       "      <th></th>\n",
       "      <th>index</th>\n",
       "      <th>words</th>\n",
       "      <th>occurrences</th>\n",
       "    </tr>\n",
       "  </thead>\n",
       "  <tbody>\n",
       "    <tr>\n",
       "      <th>0</th>\n",
       "      <td>0</td>\n",
       "      <td>&lt;unk&gt;</td>\n",
       "      <td>783307</td>\n",
       "    </tr>\n",
       "    <tr>\n",
       "      <th>1</th>\n",
       "      <td>1</td>\n",
       "      <td>the</td>\n",
       "      <td>46144</td>\n",
       "    </tr>\n",
       "    <tr>\n",
       "      <th>2</th>\n",
       "      <td>2</td>\n",
       "      <td>of</td>\n",
       "      <td>22176</td>\n",
       "    </tr>\n",
       "    <tr>\n",
       "      <th>3</th>\n",
       "      <td>3</td>\n",
       "      <td>to</td>\n",
       "      <td>21468</td>\n",
       "    </tr>\n",
       "    <tr>\n",
       "      <th>4</th>\n",
       "      <td>4</td>\n",
       "      <td>a</td>\n",
       "      <td>19485</td>\n",
       "    </tr>\n",
       "  </tbody>\n",
       "</table>\n",
       "</div>"
      ],
      "text/plain": [
       "   index  words  occurrences\n",
       "0      0  <unk>       783307\n",
       "1      1    the        46144\n",
       "2      2     of        22176\n",
       "3      3     to        21468\n",
       "4      4      a        19485"
      ]
     },
     "execution_count": 22,
     "metadata": {},
     "output_type": "execute_result"
    }
   ],
   "source": [
    "print('The total size of your vocabulary is',vocabulary.shape[0])\n",
    "count_wd_dropped = count_wd_dropped + vocabulary['occurrences'].iloc[0]\n",
    "print('The total occurrences of the special token ‘< unk >’ after replacement is',count_wd_dropped)\n",
    "vocabulary.head(5)"
   ]
  },
  {
   "cell_type": "code",
   "execution_count": 23,
   "metadata": {},
   "outputs": [],
   "source": [
    "# storing the output file locally\n",
    "os.makedirs('/Users/namyashah/Documents/USC Schooling/NLP/HW3/output', exist_ok=True)  \n",
    "vocabulary.to_csv('/Users/namyashah/Documents/USC Schooling/NLP/HW3/output/vocab.txt',sep='\\t',index=False)"
   ]
  },
  {
   "cell_type": "markdown",
   "metadata": {},
   "source": [
    "# Model Learning"
   ]
  },
  {
   "cell_type": "markdown",
   "metadata": {},
   "source": [
    "Task. Learning a model using the training data in the file train and output the learned model into a model file in json format, named hmm.json. The model file should contains two dictionaries for the emission and transition parameters, respectively. The first dictionary, named transition, contains items with pairs of (s,s′) as key and t(s′|s) as value. The second dictionary, named emission, contains items with pairs of (s, x) as key and e(x|s) as value. How many transition and emission parameters in your HMM?"
   ]
  },
  {
   "cell_type": "code",
   "execution_count": 24,
   "metadata": {},
   "outputs": [
    {
     "name": "stdout",
     "output_type": "stream",
     "text": [
      "(912095, 3)\n"
     ]
    },
    {
     "data": {
      "text/html": [
       "<div>\n",
       "<style scoped>\n",
       "    .dataframe tbody tr th:only-of-type {\n",
       "        vertical-align: middle;\n",
       "    }\n",
       "\n",
       "    .dataframe tbody tr th {\n",
       "        vertical-align: top;\n",
       "    }\n",
       "\n",
       "    .dataframe thead th {\n",
       "        text-align: right;\n",
       "    }\n",
       "</style>\n",
       "<table border=\"1\" class=\"dataframe\">\n",
       "  <thead>\n",
       "    <tr style=\"text-align: right;\">\n",
       "      <th></th>\n",
       "      <th>indexes</th>\n",
       "      <th>word</th>\n",
       "      <th>given_tags</th>\n",
       "    </tr>\n",
       "  </thead>\n",
       "  <tbody>\n",
       "    <tr>\n",
       "      <th>0</th>\n",
       "      <td>1</td>\n",
       "      <td>Pierre</td>\n",
       "      <td>NNP</td>\n",
       "    </tr>\n",
       "    <tr>\n",
       "      <th>1</th>\n",
       "      <td>2</td>\n",
       "      <td>Vinken</td>\n",
       "      <td>NNP</td>\n",
       "    </tr>\n",
       "    <tr>\n",
       "      <th>2</th>\n",
       "      <td>3</td>\n",
       "      <td>,</td>\n",
       "      <td>,</td>\n",
       "    </tr>\n",
       "    <tr>\n",
       "      <th>3</th>\n",
       "      <td>4</td>\n",
       "      <td>61</td>\n",
       "      <td>CD</td>\n",
       "    </tr>\n",
       "    <tr>\n",
       "      <th>4</th>\n",
       "      <td>5</td>\n",
       "      <td>years</td>\n",
       "      <td>NNS</td>\n",
       "    </tr>\n",
       "  </tbody>\n",
       "</table>\n",
       "</div>"
      ],
      "text/plain": [
       "   indexes    word given_tags\n",
       "0        1  Pierre        NNP\n",
       "1        2  Vinken        NNP\n",
       "2        3       ,          ,\n",
       "3        4      61         CD\n",
       "4        5   years        NNS"
      ]
     },
     "execution_count": 24,
     "metadata": {},
     "output_type": "execute_result"
    }
   ],
   "source": [
    "train_data = pd.read_csv(path,  sep='\\t', names = features)\n",
    "print(train_data.shape)\n",
    "train_data.head(5)"
   ]
  },
  {
   "cell_type": "code",
   "execution_count": 25,
   "metadata": {},
   "outputs": [
    {
     "data": {
      "text/html": [
       "<div>\n",
       "<style scoped>\n",
       "    .dataframe tbody tr th:only-of-type {\n",
       "        vertical-align: middle;\n",
       "    }\n",
       "\n",
       "    .dataframe tbody tr th {\n",
       "        vertical-align: top;\n",
       "    }\n",
       "\n",
       "    .dataframe thead th {\n",
       "        text-align: right;\n",
       "    }\n",
       "</style>\n",
       "<table border=\"1\" class=\"dataframe\">\n",
       "  <thead>\n",
       "    <tr style=\"text-align: right;\">\n",
       "      <th></th>\n",
       "      <th>given_tags</th>\n",
       "      <th>count</th>\n",
       "    </tr>\n",
       "  </thead>\n",
       "  <tbody>\n",
       "    <tr>\n",
       "      <th>0</th>\n",
       "      <td>#</td>\n",
       "      <td>127</td>\n",
       "    </tr>\n",
       "    <tr>\n",
       "      <th>1</th>\n",
       "      <td>$</td>\n",
       "      <td>6937</td>\n",
       "    </tr>\n",
       "    <tr>\n",
       "      <th>2</th>\n",
       "      <td>''</td>\n",
       "      <td>6622</td>\n",
       "    </tr>\n",
       "    <tr>\n",
       "      <th>3</th>\n",
       "      <td>,</td>\n",
       "      <td>46480</td>\n",
       "    </tr>\n",
       "    <tr>\n",
       "      <th>4</th>\n",
       "      <td>-LRB-</td>\n",
       "      <td>1305</td>\n",
       "    </tr>\n",
       "  </tbody>\n",
       "</table>\n",
       "</div>"
      ],
      "text/plain": [
       "  given_tags  count\n",
       "0          #    127\n",
       "1          $   6937\n",
       "2         ''   6622\n",
       "3          ,  46480\n",
       "4      -LRB-   1305"
      ]
     },
     "execution_count": 25,
     "metadata": {},
     "output_type": "execute_result"
    }
   ],
   "source": [
    "# counting the number of times each tag has occured\n",
    "total_tag_count = train_data.groupby('given_tags').size().reset_index(name = 'count')\n",
    "total_tag_count.head(5)"
   ]
  },
  {
   "cell_type": "markdown",
   "metadata": {},
   "source": [
    "## Creating Emission Matrix (E)"
   ]
  },
  {
   "cell_type": "code",
   "execution_count": 26,
   "metadata": {},
   "outputs": [
    {
     "name": "stdout",
     "output_type": "stream",
     "text": [
      "(50284, 3)\n"
     ]
    },
    {
     "data": {
      "text/html": [
       "<div>\n",
       "<style scoped>\n",
       "    .dataframe tbody tr th:only-of-type {\n",
       "        vertical-align: middle;\n",
       "    }\n",
       "\n",
       "    .dataframe tbody tr th {\n",
       "        vertical-align: top;\n",
       "    }\n",
       "\n",
       "    .dataframe thead th {\n",
       "        text-align: right;\n",
       "    }\n",
       "</style>\n",
       "<table border=\"1\" class=\"dataframe\">\n",
       "  <thead>\n",
       "    <tr style=\"text-align: right;\">\n",
       "      <th></th>\n",
       "      <th>word</th>\n",
       "      <th>given_tags</th>\n",
       "      <th>count</th>\n",
       "    </tr>\n",
       "  </thead>\n",
       "  <tbody>\n",
       "    <tr>\n",
       "      <th>0</th>\n",
       "      <td>!</td>\n",
       "      <td>.</td>\n",
       "      <td>66</td>\n",
       "    </tr>\n",
       "    <tr>\n",
       "      <th>1</th>\n",
       "      <td>#</td>\n",
       "      <td>#</td>\n",
       "      <td>127</td>\n",
       "    </tr>\n",
       "    <tr>\n",
       "      <th>2</th>\n",
       "      <td>$</td>\n",
       "      <td>$</td>\n",
       "      <td>6762</td>\n",
       "    </tr>\n",
       "    <tr>\n",
       "      <th>3</th>\n",
       "      <td>%</td>\n",
       "      <td>JJ</td>\n",
       "      <td>10</td>\n",
       "    </tr>\n",
       "    <tr>\n",
       "      <th>4</th>\n",
       "      <td>%</td>\n",
       "      <td>NN</td>\n",
       "      <td>4708</td>\n",
       "    </tr>\n",
       "  </tbody>\n",
       "</table>\n",
       "</div>"
      ],
      "text/plain": [
       "  word given_tags  count\n",
       "0    !          .     66\n",
       "1    #          #    127\n",
       "2    $          $   6762\n",
       "3    %         JJ     10\n",
       "4    %         NN   4708"
      ]
     },
     "execution_count": 26,
     "metadata": {},
     "output_type": "execute_result"
    }
   ],
   "source": [
    "# counting the number of times a pair of (word,tag) has occured in the training data\n",
    "word_to_tag_count = train_data.groupby(['word', 'given_tags']).size().reset_index(name = 'count')\n",
    "print(word_to_tag_count.shape)\n",
    "word_to_tag_count.head(5)"
   ]
  },
  {
   "cell_type": "code",
   "execution_count": 27,
   "metadata": {},
   "outputs": [
    {
     "name": "stderr",
     "output_type": "stream",
     "text": [
      "/var/folders/75/80lf4_793vn5xdm8_9jjr63h0000gn/T/ipykernel_20481/3032883246.py:6: FutureWarning: Series.__getitem__ treating keys as positions is deprecated. In a future version, integer keys will always be treated as labels (consistent with DataFrame behavior). To access a value by position, use `ser.iloc[pos]`\n",
      "  word = word_to_tag_count.iloc[i][0]\n",
      "/var/folders/75/80lf4_793vn5xdm8_9jjr63h0000gn/T/ipykernel_20481/3032883246.py:7: FutureWarning: Series.__getitem__ treating keys as positions is deprecated. In a future version, integer keys will always be treated as labels (consistent with DataFrame behavior). To access a value by position, use `ser.iloc[pos]`\n",
      "  tag = word_to_tag_count.iloc[i][1]\n",
      "/var/folders/75/80lf4_793vn5xdm8_9jjr63h0000gn/T/ipykernel_20481/3032883246.py:9: FutureWarning: Series.__getitem__ treating keys as positions is deprecated. In a future version, integer keys will always be treated as labels (consistent with DataFrame behavior). To access a value by position, use `ser.iloc[pos]`\n",
      "  count1 = int(tag_count_temp.iloc[0][1])\n",
      "/var/folders/75/80lf4_793vn5xdm8_9jjr63h0000gn/T/ipykernel_20481/3032883246.py:10: FutureWarning: Series.__getitem__ treating keys as positions is deprecated. In a future version, integer keys will always be treated as labels (consistent with DataFrame behavior). To access a value by position, use `ser.iloc[pos]`\n",
      "  count2 = int(word_to_tag_count.iloc[i][2])\n"
     ]
    }
   ],
   "source": [
    "# evaluating the emission matrix\n",
    "i_vals = range(word_to_tag_count.shape[0])\n",
    "emission = {}\n",
    "\n",
    "for i in i_vals:\n",
    "    word = word_to_tag_count.iloc[i][0]\n",
    "    tag = word_to_tag_count.iloc[i][1]\n",
    "    tag_count_temp = total_tag_count[total_tag_count['given_tags'].isin([tag])]\n",
    "    count1 = int(tag_count_temp.iloc[0][1])\n",
    "    count2 = int(word_to_tag_count.iloc[i][2])\n",
    "    key = ''+tag+','+word\n",
    "    emission[key] = count2/count1"
   ]
  },
  {
   "cell_type": "markdown",
   "metadata": {},
   "source": [
    "## Creating Transition Matrix (A)"
   ]
  },
  {
   "cell_type": "code",
   "execution_count": 28,
   "metadata": {},
   "outputs": [
    {
     "data": {
      "text/html": [
       "<div>\n",
       "<style scoped>\n",
       "    .dataframe tbody tr th:only-of-type {\n",
       "        vertical-align: middle;\n",
       "    }\n",
       "\n",
       "    .dataframe tbody tr th {\n",
       "        vertical-align: top;\n",
       "    }\n",
       "\n",
       "    .dataframe thead th {\n",
       "        text-align: right;\n",
       "    }\n",
       "</style>\n",
       "<table border=\"1\" class=\"dataframe\">\n",
       "  <thead>\n",
       "    <tr style=\"text-align: right;\">\n",
       "      <th></th>\n",
       "      <th>given_tags</th>\n",
       "      <th>step_val</th>\n",
       "      <th>count</th>\n",
       "    </tr>\n",
       "  </thead>\n",
       "  <tbody>\n",
       "    <tr>\n",
       "      <th>0</th>\n",
       "      <td>#</td>\n",
       "      <td>,</td>\n",
       "      <td>1</td>\n",
       "    </tr>\n",
       "    <tr>\n",
       "      <th>1</th>\n",
       "      <td>#</td>\n",
       "      <td>CD</td>\n",
       "      <td>126</td>\n",
       "    </tr>\n",
       "    <tr>\n",
       "      <th>2</th>\n",
       "      <td>$</td>\n",
       "      <td>CD</td>\n",
       "      <td>6882</td>\n",
       "    </tr>\n",
       "    <tr>\n",
       "      <th>3</th>\n",
       "      <td>$</td>\n",
       "      <td>JJ</td>\n",
       "      <td>55</td>\n",
       "    </tr>\n",
       "    <tr>\n",
       "      <th>4</th>\n",
       "      <td>''</td>\n",
       "      <td>$</td>\n",
       "      <td>1</td>\n",
       "    </tr>\n",
       "  </tbody>\n",
       "</table>\n",
       "</div>"
      ],
      "text/plain": [
       "  given_tags step_val  count\n",
       "0          #        ,      1\n",
       "1          #       CD    126\n",
       "2          $       CD   6882\n",
       "3          $       JJ     55\n",
       "4         ''        $      1"
      ]
     },
     "execution_count": 28,
     "metadata": {},
     "output_type": "execute_result"
    }
   ],
   "source": [
    "# counting the number of times the pair of (tag1,tag2) has occured in the training data\n",
    "train_data['step_val'] = train_data['given_tags'].shift(-1)\n",
    "tag_to_tag_count = train_data.groupby(['given_tags','step_val']).size().reset_index(name = 'count')\n",
    "tag_to_tag_count.head(5)"
   ]
  },
  {
   "cell_type": "code",
   "execution_count": 29,
   "metadata": {},
   "outputs": [
    {
     "name": "stdout",
     "output_type": "stream",
     "text": [
      "912095\n"
     ]
    }
   ],
   "source": [
    "total_num_words = train_data.shape[0]\n",
    "print(total_num_words)"
   ]
  },
  {
   "cell_type": "code",
   "execution_count": 30,
   "metadata": {},
   "outputs": [
    {
     "name": "stderr",
     "output_type": "stream",
     "text": [
      "/var/folders/75/80lf4_793vn5xdm8_9jjr63h0000gn/T/ipykernel_20481/3113536579.py:6: FutureWarning: Series.__getitem__ treating keys as positions is deprecated. In a future version, integer keys will always be treated as labels (consistent with DataFrame behavior). To access a value by position, use `ser.iloc[pos]`\n",
      "  tag = total_tag_count.iloc[i][0]\n",
      "/var/folders/75/80lf4_793vn5xdm8_9jjr63h0000gn/T/ipykernel_20481/3113536579.py:8: FutureWarning: Series.__getitem__ treating keys as positions is deprecated. In a future version, integer keys will always be treated as labels (consistent with DataFrame behavior). To access a value by position, use `ser.iloc[pos]`\n",
      "  count1 = int(tag_count_temp.iloc[0][1])\n"
     ]
    }
   ],
   "source": [
    "# evaluating the start probabilities of each tag\n",
    "i_vals = range(total_tag_count.shape[0])\n",
    "transition = {}\n",
    "\n",
    "for i in i_vals:\n",
    "    tag = total_tag_count.iloc[i][0]\n",
    "    tag_count_temp = total_tag_count[total_tag_count['given_tags'].isin([tag])]\n",
    "    count1 = int(tag_count_temp.iloc[0][1])\n",
    "    key = 'start,'+tag\n",
    "    transition[key] = count1/total_num_words"
   ]
  },
  {
   "cell_type": "code",
   "execution_count": 31,
   "metadata": {},
   "outputs": [
    {
     "name": "stderr",
     "output_type": "stream",
     "text": [
      "/var/folders/75/80lf4_793vn5xdm8_9jjr63h0000gn/T/ipykernel_20481/906391021.py:5: FutureWarning: Series.__getitem__ treating keys as positions is deprecated. In a future version, integer keys will always be treated as labels (consistent with DataFrame behavior). To access a value by position, use `ser.iloc[pos]`\n",
      "  tag1 = tag_to_tag_count.iloc[i][0]\n",
      "/var/folders/75/80lf4_793vn5xdm8_9jjr63h0000gn/T/ipykernel_20481/906391021.py:6: FutureWarning: Series.__getitem__ treating keys as positions is deprecated. In a future version, integer keys will always be treated as labels (consistent with DataFrame behavior). To access a value by position, use `ser.iloc[pos]`\n",
      "  tag2 = tag_to_tag_count.iloc[i][1]\n",
      "/var/folders/75/80lf4_793vn5xdm8_9jjr63h0000gn/T/ipykernel_20481/906391021.py:8: FutureWarning: Series.__getitem__ treating keys as positions is deprecated. In a future version, integer keys will always be treated as labels (consistent with DataFrame behavior). To access a value by position, use `ser.iloc[pos]`\n",
      "  count1 = int(tag_count_temp.iloc[0][1])\n",
      "/var/folders/75/80lf4_793vn5xdm8_9jjr63h0000gn/T/ipykernel_20481/906391021.py:9: FutureWarning: Series.__getitem__ treating keys as positions is deprecated. In a future version, integer keys will always be treated as labels (consistent with DataFrame behavior). To access a value by position, use `ser.iloc[pos]`\n",
      "  count3 = int(tag_to_tag_count.iloc[i][2])\n"
     ]
    }
   ],
   "source": [
    "# evaluating the rest of the transition matrix\n",
    "i_vals = range(tag_to_tag_count.shape[0])\n",
    "\n",
    "for i in i_vals:\n",
    "    tag1 = tag_to_tag_count.iloc[i][0]\n",
    "    tag2 = tag_to_tag_count.iloc[i][1]\n",
    "    tag_count_temp = total_tag_count[total_tag_count['given_tags'].isin([tag1])]\n",
    "    count1 = int(tag_count_temp.iloc[0][1])\n",
    "    count3 = int(tag_to_tag_count.iloc[i][2])\n",
    "    key = ''+tag1+','+tag2\n",
    "    transition[key] = count3/count1"
   ]
  },
  {
   "cell_type": "markdown",
   "metadata": {},
   "source": [
    "## Storing both the matrices in a json file"
   ]
  },
  {
   "cell_type": "code",
   "execution_count": 32,
   "metadata": {},
   "outputs": [],
   "source": [
    "# combining the dictionaries\n",
    "hmm_dict = {'emission': emission, 'transition': transition}"
   ]
  },
  {
   "cell_type": "code",
   "execution_count": 33,
   "metadata": {},
   "outputs": [],
   "source": [
    "with open('/Users/namyashah/Documents/USC Schooling/NLP/HW3/output/hmm.json', 'w') as json_file:\n",
    "    json.dump(hmm_dict, json_file, indent=4)"
   ]
  },
  {
   "cell_type": "markdown",
   "metadata": {},
   "source": [
    "# Greedy Decoding with HMM"
   ]
  },
  {
   "cell_type": "markdown",
   "metadata": {},
   "source": [
    "Task. Implementing the greedy decoding algorithm and evaluate it on the development data. What is the accuracy on the dev data? Predicting the part-of-speech tags of the sentences in the test data and output the predic- tions in a file named greedy.out, in the same format of training data.\n",
    "We also provide an evaluation script eval.py to evaluate the results of the model. To use the script, you need to prepare your prediction file in the same format as the training data, then execute the command line:\n",
    "\n",
    "python eval.py -p output/greedy.out -g data/dev"
   ]
  },
  {
   "cell_type": "code",
   "execution_count": 34,
   "metadata": {},
   "outputs": [],
   "source": [
    "# Defining the path and features\n",
    "path2 = '/Users/namyashah/Documents/USC Schooling/NLP/HW3/data/dev'\n",
    "features2 = ['indexes','word','given_tags']"
   ]
  },
  {
   "cell_type": "code",
   "execution_count": 35,
   "metadata": {},
   "outputs": [
    {
     "name": "stdout",
     "output_type": "stream",
     "text": [
      "(131768, 3)\n"
     ]
    },
    {
     "data": {
      "text/html": [
       "<div>\n",
       "<style scoped>\n",
       "    .dataframe tbody tr th:only-of-type {\n",
       "        vertical-align: middle;\n",
       "    }\n",
       "\n",
       "    .dataframe tbody tr th {\n",
       "        vertical-align: top;\n",
       "    }\n",
       "\n",
       "    .dataframe thead th {\n",
       "        text-align: right;\n",
       "    }\n",
       "</style>\n",
       "<table border=\"1\" class=\"dataframe\">\n",
       "  <thead>\n",
       "    <tr style=\"text-align: right;\">\n",
       "      <th></th>\n",
       "      <th>indexes</th>\n",
       "      <th>word</th>\n",
       "      <th>given_tags</th>\n",
       "    </tr>\n",
       "  </thead>\n",
       "  <tbody>\n",
       "    <tr>\n",
       "      <th>0</th>\n",
       "      <td>1</td>\n",
       "      <td>The</td>\n",
       "      <td>DT</td>\n",
       "    </tr>\n",
       "    <tr>\n",
       "      <th>1</th>\n",
       "      <td>2</td>\n",
       "      <td>Arizona</td>\n",
       "      <td>NNP</td>\n",
       "    </tr>\n",
       "    <tr>\n",
       "      <th>2</th>\n",
       "      <td>3</td>\n",
       "      <td>Corporations</td>\n",
       "      <td>NNP</td>\n",
       "    </tr>\n",
       "    <tr>\n",
       "      <th>3</th>\n",
       "      <td>4</td>\n",
       "      <td>Commission</td>\n",
       "      <td>NNP</td>\n",
       "    </tr>\n",
       "    <tr>\n",
       "      <th>4</th>\n",
       "      <td>5</td>\n",
       "      <td>authorized</td>\n",
       "      <td>VBD</td>\n",
       "    </tr>\n",
       "  </tbody>\n",
       "</table>\n",
       "</div>"
      ],
      "text/plain": [
       "   indexes          word given_tags\n",
       "0        1           The         DT\n",
       "1        2       Arizona        NNP\n",
       "2        3  Corporations        NNP\n",
       "3        4    Commission        NNP\n",
       "4        5    authorized        VBD"
      ]
     },
     "execution_count": 35,
     "metadata": {},
     "output_type": "execute_result"
    }
   ],
   "source": [
    "# Reading the train dataset\n",
    "dev_data = pd.read_csv(path2,  sep='\\t', names = features2)\n",
    "print(dev_data.shape)\n",
    "dev_data.head(5)"
   ]
  },
  {
   "cell_type": "code",
   "execution_count": 36,
   "metadata": {},
   "outputs": [
    {
     "data": {
      "text/html": [
       "<div>\n",
       "<style scoped>\n",
       "    .dataframe tbody tr th:only-of-type {\n",
       "        vertical-align: middle;\n",
       "    }\n",
       "\n",
       "    .dataframe tbody tr th {\n",
       "        vertical-align: top;\n",
       "    }\n",
       "\n",
       "    .dataframe thead th {\n",
       "        text-align: right;\n",
       "    }\n",
       "</style>\n",
       "<table border=\"1\" class=\"dataframe\">\n",
       "  <thead>\n",
       "    <tr style=\"text-align: right;\">\n",
       "      <th></th>\n",
       "      <th>indexes</th>\n",
       "      <th>word</th>\n",
       "      <th>given_tags</th>\n",
       "    </tr>\n",
       "  </thead>\n",
       "  <tbody>\n",
       "    <tr>\n",
       "      <th>0</th>\n",
       "      <td>1</td>\n",
       "      <td>The</td>\n",
       "      <td>DT</td>\n",
       "    </tr>\n",
       "    <tr>\n",
       "      <th>1</th>\n",
       "      <td>2</td>\n",
       "      <td>Arizona</td>\n",
       "      <td>NNP</td>\n",
       "    </tr>\n",
       "    <tr>\n",
       "      <th>2</th>\n",
       "      <td>3</td>\n",
       "      <td>Corporations</td>\n",
       "      <td>NNP</td>\n",
       "    </tr>\n",
       "    <tr>\n",
       "      <th>3</th>\n",
       "      <td>4</td>\n",
       "      <td>Commission</td>\n",
       "      <td>NNP</td>\n",
       "    </tr>\n",
       "    <tr>\n",
       "      <th>4</th>\n",
       "      <td>5</td>\n",
       "      <td>authorized</td>\n",
       "      <td>VBD</td>\n",
       "    </tr>\n",
       "  </tbody>\n",
       "</table>\n",
       "</div>"
      ],
      "text/plain": [
       "   indexes          word given_tags\n",
       "0        1           The         DT\n",
       "1        2       Arizona        NNP\n",
       "2        3  Corporations        NNP\n",
       "3        4    Commission        NNP\n",
       "4        5    authorized        VBD"
      ]
     },
     "execution_count": 36,
     "metadata": {},
     "output_type": "execute_result"
    }
   ],
   "source": [
    "# ensuring all the words are of string type\n",
    "dev_data['word'] = dev_data['word'].apply(str)\n",
    "dev_data.head(5)"
   ]
  },
  {
   "cell_type": "code",
   "execution_count": 37,
   "metadata": {},
   "outputs": [],
   "source": [
    "# initializing basic parameters\n",
    "total_tag_count['given_tags'] = total_tag_count['given_tags'].apply(str)\n",
    "tags = (total_tag_count['given_tags']).tolist()\n",
    "path = []\n",
    "p_val = {}\n",
    "max_probability = 0\n",
    "i_vals = range(dev_data.shape[0])"
   ]
  },
  {
   "cell_type": "markdown",
   "metadata": {},
   "source": [
    "#### Logic Behind my code for Greedy Algorithm:\n",
    "\n",
    "When we encounter id = 1, it means a new sentence has began, so here we take the start values from the transition matrix.\n",
    "p_val is a dictionary that stores the probabilities of A[start,tag]*E[tag,word] in case these values exist in the matrix or 0 if it doesn't.\n",
    "The maximum probability value from the dictionary is selected and the tag currosponding to it, rest all are discarded.\n",
    "\n",
    "when we encounter id to be anything other than 1, it means a sentence is on-going, so here we take the previous tag to new tag values from the transition matrix.\n",
    "p_val is a dictionary that stores the probabilities of A[tag1,tag2]*E[tag2,word] in case these values exist in the matrix or 0 if it doesn't.\n",
    "The maximum probability value from the dictionary is selected and the tag currosponding to it, rest all are discarded."
   ]
  },
  {
   "cell_type": "code",
   "execution_count": 38,
   "metadata": {},
   "outputs": [
    {
     "name": "stderr",
     "output_type": "stream",
     "text": [
      "/var/folders/75/80lf4_793vn5xdm8_9jjr63h0000gn/T/ipykernel_20481/900646807.py:6: FutureWarning: Series.__getitem__ treating keys as positions is deprecated. In a future version, integer keys will always be treated as labels (consistent with DataFrame behavior). To access a value by position, use `ser.iloc[pos]`\n",
      "  id = dev_data.iloc[i][0]\n",
      "/var/folders/75/80lf4_793vn5xdm8_9jjr63h0000gn/T/ipykernel_20481/900646807.py:7: FutureWarning: Series.__getitem__ treating keys as positions is deprecated. In a future version, integer keys will always be treated as labels (consistent with DataFrame behavior). To access a value by position, use `ser.iloc[pos]`\n",
      "  word = dev_data.iloc[i][1]\n"
     ]
    }
   ],
   "source": [
    "# executing the greedy algorithm\n",
    "\n",
    "for i in i_vals:\n",
    "    # initializing the varing parameters in this algorithm\n",
    "    temp_path =''\n",
    "    id = dev_data.iloc[i][0]\n",
    "    word = dev_data.iloc[i][1]\n",
    "    p_val = {}\n",
    "\n",
    "    if id == 1:\n",
    "        for tag in tags:\n",
    "            tkey = 'start,'+tag\n",
    "            ekey = ''+tag+','+word\n",
    "            if transition.get(tkey) is not None and emission.get(ekey) is not None:\n",
    "                p_val[tag] = transition[tkey]*emission[ekey]\n",
    "            else:\n",
    "                p_val['DT'] = 0\n",
    "        if max(p_val.values()) != 0:\n",
    "            max_probability = max(p_val.values())\n",
    "            temp_path = [i for i in p_val if p_val[i]==max_probability][0]\n",
    "        else:\n",
    "            temp_path = 'DT'\n",
    "    else:\n",
    "        for tag2 in tags:\n",
    "            if path:\n",
    "                tag1 = path[-1]\n",
    "            else:\n",
    "                tag1 = 'start'\n",
    "            tkey = ''+tag1+','+tag2\n",
    "            ekey = ''+tag2+','+word\n",
    "            if transition.get(tkey) is not None and emission.get(ekey) is not None:\n",
    "                p_val[tag2] = max_probability*transition[tkey]*emission[ekey]\n",
    "            else:\n",
    "                p_val['NNP'] = 0\n",
    "        if max(p_val.values()) != 0:\n",
    "            max_probability = max(p_val.values())\n",
    "            temp_path = [i for i in p_val if p_val[i]==max_probability][0]\n",
    "        else:\n",
    "            temp_path = 'NNP'\n",
    "    \n",
    "    path.append(temp_path)"
   ]
  },
  {
   "cell_type": "code",
   "execution_count": 39,
   "metadata": {},
   "outputs": [
    {
     "data": {
      "text/html": [
       "<div>\n",
       "<style scoped>\n",
       "    .dataframe tbody tr th:only-of-type {\n",
       "        vertical-align: middle;\n",
       "    }\n",
       "\n",
       "    .dataframe tbody tr th {\n",
       "        vertical-align: top;\n",
       "    }\n",
       "\n",
       "    .dataframe thead th {\n",
       "        text-align: right;\n",
       "    }\n",
       "</style>\n",
       "<table border=\"1\" class=\"dataframe\">\n",
       "  <thead>\n",
       "    <tr style=\"text-align: right;\">\n",
       "      <th></th>\n",
       "      <th>indexes</th>\n",
       "      <th>word</th>\n",
       "      <th>tags</th>\n",
       "    </tr>\n",
       "  </thead>\n",
       "  <tbody>\n",
       "    <tr>\n",
       "      <th>0</th>\n",
       "      <td>1</td>\n",
       "      <td>The</td>\n",
       "      <td>NNP</td>\n",
       "    </tr>\n",
       "    <tr>\n",
       "      <th>1</th>\n",
       "      <td>2</td>\n",
       "      <td>Arizona</td>\n",
       "      <td>NNP</td>\n",
       "    </tr>\n",
       "    <tr>\n",
       "      <th>2</th>\n",
       "      <td>3</td>\n",
       "      <td>Corporations</td>\n",
       "      <td>NNS</td>\n",
       "    </tr>\n",
       "    <tr>\n",
       "      <th>3</th>\n",
       "      <td>4</td>\n",
       "      <td>Commission</td>\n",
       "      <td>NN</td>\n",
       "    </tr>\n",
       "    <tr>\n",
       "      <th>4</th>\n",
       "      <td>5</td>\n",
       "      <td>authorized</td>\n",
       "      <td>VBD</td>\n",
       "    </tr>\n",
       "  </tbody>\n",
       "</table>\n",
       "</div>"
      ],
      "text/plain": [
       "   indexes          word tags\n",
       "0        1           The  NNP\n",
       "1        2       Arizona  NNP\n",
       "2        3  Corporations  NNS\n",
       "3        4    Commission   NN\n",
       "4        5    authorized  VBD"
      ]
     },
     "execution_count": 39,
     "metadata": {},
     "output_type": "execute_result"
    }
   ],
   "source": [
    "# creating a dataframe for final output\n",
    "greedy_df = pd.DataFrame()\n",
    "greedy_df['indexes'] = dev_data['indexes']\n",
    "greedy_df['word'] = dev_data['word']\n",
    "greedy_df['tags'] = path\n",
    "\n",
    "greedy_df.head(5)"
   ]
  },
  {
   "cell_type": "code",
   "execution_count": 40,
   "metadata": {},
   "outputs": [],
   "source": [
    "# storing the final output locally\n",
    "with open('/Users/namyashah/Documents/USC Schooling/NLP/HW3/output/greedy.out', 'w') as out:\n",
    "    for row in greedy_df.values:\n",
    "        out.write(f\"{row[0]}\\t{row[1]}\\t{row[2]}\\n\")\n",
    "    out.write(f'\\n')"
   ]
  },
  {
   "cell_type": "markdown",
   "metadata": {},
   "source": [
    "# Viterbi Decoding with HMM"
   ]
  },
  {
   "cell_type": "markdown",
   "metadata": {},
   "source": [
    "Task. Implementing the viterbi decoding algorithm and evaluate it on the development data. What is the accuracy on the dev data? Predicting the part-of-speech tags of the sentences in the test data and output the predictions in a file named viterbi.out, in the same format of training data."
   ]
  },
  {
   "cell_type": "code",
   "execution_count": 44,
   "metadata": {},
   "outputs": [],
   "source": [
    "# Defining the path and features\n",
    "path3 = '/Users/namyashah/Documents/USC Schooling/NLP/HW3/data/dev'\n",
    "features3 = ['indexes','word','given_tags']"
   ]
  },
  {
   "cell_type": "code",
   "execution_count": 45,
   "metadata": {},
   "outputs": [
    {
     "name": "stdout",
     "output_type": "stream",
     "text": [
      "(131768, 3)\n"
     ]
    },
    {
     "data": {
      "text/html": [
       "<div>\n",
       "<style scoped>\n",
       "    .dataframe tbody tr th:only-of-type {\n",
       "        vertical-align: middle;\n",
       "    }\n",
       "\n",
       "    .dataframe tbody tr th {\n",
       "        vertical-align: top;\n",
       "    }\n",
       "\n",
       "    .dataframe thead th {\n",
       "        text-align: right;\n",
       "    }\n",
       "</style>\n",
       "<table border=\"1\" class=\"dataframe\">\n",
       "  <thead>\n",
       "    <tr style=\"text-align: right;\">\n",
       "      <th></th>\n",
       "      <th>indexes</th>\n",
       "      <th>word</th>\n",
       "      <th>given_tags</th>\n",
       "    </tr>\n",
       "  </thead>\n",
       "  <tbody>\n",
       "    <tr>\n",
       "      <th>0</th>\n",
       "      <td>1</td>\n",
       "      <td>The</td>\n",
       "      <td>DT</td>\n",
       "    </tr>\n",
       "    <tr>\n",
       "      <th>1</th>\n",
       "      <td>2</td>\n",
       "      <td>Arizona</td>\n",
       "      <td>NNP</td>\n",
       "    </tr>\n",
       "    <tr>\n",
       "      <th>2</th>\n",
       "      <td>3</td>\n",
       "      <td>Corporations</td>\n",
       "      <td>NNP</td>\n",
       "    </tr>\n",
       "    <tr>\n",
       "      <th>3</th>\n",
       "      <td>4</td>\n",
       "      <td>Commission</td>\n",
       "      <td>NNP</td>\n",
       "    </tr>\n",
       "    <tr>\n",
       "      <th>4</th>\n",
       "      <td>5</td>\n",
       "      <td>authorized</td>\n",
       "      <td>VBD</td>\n",
       "    </tr>\n",
       "  </tbody>\n",
       "</table>\n",
       "</div>"
      ],
      "text/plain": [
       "   indexes          word given_tags\n",
       "0        1           The         DT\n",
       "1        2       Arizona        NNP\n",
       "2        3  Corporations        NNP\n",
       "3        4    Commission        NNP\n",
       "4        5    authorized        VBD"
      ]
     },
     "execution_count": 45,
     "metadata": {},
     "output_type": "execute_result"
    }
   ],
   "source": [
    "# Reading the train dataset\n",
    "dev_data = pd.read_csv(path3,  sep='\\t', names = features3)\n",
    "#coverting all words to strings\n",
    "dev_data['word'] = dev_data['word'].apply(str)\n",
    "print(dev_data.shape)\n",
    "dev_data.head(5)"
   ]
  },
  {
   "cell_type": "code",
   "execution_count": 46,
   "metadata": {},
   "outputs": [],
   "source": [
    "# initializing basic parameters\n",
    "total_tag_count['given_tags'] = total_tag_count['given_tags'].apply(str)\n",
    "tags = (total_tag_count['given_tags']).tolist()\n",
    "paths = {}\n",
    "main_path = []\n",
    "i_vals = range(1, dev_data.shape[0])\n",
    "\n",
    "#setting context for multiplication\n",
    "mycontext = Context(prec=10)\n",
    "setcontext(mycontext)"
   ]
  },
  {
   "cell_type": "code",
   "execution_count": 47,
   "metadata": {},
   "outputs": [],
   "source": [
    "# Here we will only keep those paths which either have a unique last tag or has highest probabilities among those paths with same last tag.\n",
    "def getmaxpaths(paths):\n",
    "    result = {}\n",
    "    for key, value in paths.items():\n",
    "        last_element = key.split('|')[-1]\n",
    "        if last_element not in result or value > result[last_element][1]:\n",
    "            result[last_element] = (key, value)\n",
    "    \n",
    "    # Construct the final dictionary from the collected key-value pairs\n",
    "    final_dict = {key_value[0]: key_value[1] for key_value in result.values()}\n",
    "    return final_dict    "
   ]
  },
  {
   "cell_type": "markdown",
   "metadata": {},
   "source": [
    "#### Logic Behind calculateNextStepFromStart():\n",
    "\n",
    "evaluating the paths and their probabilities for the next step if this step was taken right after the start index tags.\n",
    "It should be noted that the only difference between the calculateNextStep() and CalculateNextStepFromStart() is the 'pathkey' variable.\n",
    "There can be a scenario where we encounter unknown word, which means all the word-tag pairs won't exist in the emission matrix, here we hard code the tag to be NNP.\n",
    "It is NNP specifically because that is the most probable tag to go unidentified in the middle of any sentence."
   ]
  },
  {
   "cell_type": "code",
   "execution_count": 48,
   "metadata": {},
   "outputs": [],
   "source": [
    "\n",
    "def calculateNextStepFromStart(paths, word):\n",
    "    p_val = {}\n",
    "    flag = []\n",
    "    for tag1 in paths.keys():\n",
    "        for tag2 in tags:\n",
    "            tkey = ''+tag1+','+tag2\n",
    "            ekey = ''+tag2+','+word\n",
    "            pathkey = ''+tag1+'|'+tag2\n",
    "            if transition.get(tkey) is not None and emission.get(ekey) is not None:\n",
    "                val1 = Decimal(paths[tag1])\n",
    "                val2 = Decimal(transition[tkey])\n",
    "                val3 = Decimal(emission[ekey])\n",
    "                p_val[pathkey] = val1 * val2 * val3\n",
    "                flag.append(0)\n",
    "            if emission.get(ekey) is None:\n",
    "                flag.append(1)\n",
    "    \n",
    "    if 0 not in flag and len(p_val) == 0:\n",
    "        for tag1 in paths.keys():\n",
    "            pathkey = ''+tag1+'|NNP'\n",
    "            p_val[pathkey] = Decimal(paths[tag1])*Decimal(0.1)\n",
    "                \n",
    "    p_val = {key: value for key, value in p_val.items() if value != 0.0}\n",
    "    return p_val"
   ]
  },
  {
   "cell_type": "markdown",
   "metadata": {},
   "source": [
    "#### Logic Behind calculateNextStep():\n",
    "\n",
    "Evaluating the paths and their probabilities for the next step.\n",
    "There can be a scenario where we encounter unknown word, which means all the word-tag pairs won't exist in the emission matrix, here we hard code the tag to be NNP.\n",
    "It is NNP specifically because that is the most probable tag to go unidentified in the middle of any sentence."
   ]
  },
  {
   "cell_type": "code",
   "execution_count": 49,
   "metadata": {},
   "outputs": [],
   "source": [
    "\n",
    "def calculateNextStep(paths, word):\n",
    "     p_val = {}\n",
    "     flag = []\n",
    "     for path_value in paths.keys():\n",
    "          tag1 = path_value.split('|')[-1]\n",
    "          for tag2 in tags:\n",
    "               tkey = ''+tag1+','+tag2\n",
    "               ekey = ''+tag2+','+word\n",
    "               pathkey = ''+path_value+'|'+tag2\n",
    "               if transition.get(tkey) is not None and emission.get(ekey) is not None:\n",
    "                    val1 = Decimal(paths[path_value])\n",
    "                    val2 = Decimal(transition[tkey])\n",
    "                    val3 = Decimal(emission[ekey])\n",
    "                    p_val[pathkey] = val1 * val2 * val3\n",
    "                    flag.append(0)\n",
    "               if emission.get(ekey) is None:\n",
    "                    flag.append(1)\n",
    "     \n",
    "     if 0 not in flag and len(p_val) == 0:\n",
    "          for path_value in paths.keys():\n",
    "               pathkey = ''+path_value+'|NNP'\n",
    "               p_val[pathkey] = Decimal(paths[path_value])*Decimal(0.1)\n",
    "     p_val = {key: value for key, value in p_val.items() if value != 0.0}\n",
    "     return p_val"
   ]
  },
  {
   "cell_type": "markdown",
   "metadata": {},
   "source": [
    "#### Logic Behind my code for Viterbi Algorithm:\n",
    "\n",
    "Here, in case the id is not 1 and the next step is not 1, we have paths and their maximum probabilities, we will now calulate the probabilities of the next step for all tags and return the tags and its probabilities in the form of next_step = {'DT|DT|VB':0.55, 'DT|NN|NN':0.25, 'DT|NN|VB':0.75}. From this we will only keep those which either have a unique last tag or has highest probabilities among those paths with same last tag.\n",
    "If the next step is 1, then we select the optimal path form the evaluated paths."
   ]
  },
  {
   "cell_type": "code",
   "execution_count": 50,
   "metadata": {},
   "outputs": [
    {
     "name": "stderr",
     "output_type": "stream",
     "text": [
      "/var/folders/75/80lf4_793vn5xdm8_9jjr63h0000gn/T/ipykernel_20481/4096496605.py:3: FutureWarning: Series.__getitem__ treating keys as positions is deprecated. In a future version, integer keys will always be treated as labels (consistent with DataFrame behavior). To access a value by position, use `ser.iloc[pos]`\n",
      "  id = dev_data.iloc[i-1][0]\n",
      "/var/folders/75/80lf4_793vn5xdm8_9jjr63h0000gn/T/ipykernel_20481/4096496605.py:4: FutureWarning: Series.__getitem__ treating keys as positions is deprecated. In a future version, integer keys will always be treated as labels (consistent with DataFrame behavior). To access a value by position, use `ser.iloc[pos]`\n",
      "  word = dev_data.iloc[i-1][1]\n",
      "/var/folders/75/80lf4_793vn5xdm8_9jjr63h0000gn/T/ipykernel_20481/4096496605.py:18: FutureWarning: Series.__getitem__ treating keys as positions is deprecated. In a future version, integer keys will always be treated as labels (consistent with DataFrame behavior). To access a value by position, use `ser.iloc[pos]`\n",
      "  if dev_data.iloc[i][0] == 1:\n",
      "/var/folders/75/80lf4_793vn5xdm8_9jjr63h0000gn/T/ipykernel_20481/4096496605.py:22: FutureWarning: Series.__getitem__ treating keys as positions is deprecated. In a future version, integer keys will always be treated as labels (consistent with DataFrame behavior). To access a value by position, use `ser.iloc[pos]`\n",
      "  if dev_data.iloc[i][0] != 1:\n",
      "/var/folders/75/80lf4_793vn5xdm8_9jjr63h0000gn/T/ipykernel_20481/4096496605.py:24: FutureWarning: Series.__getitem__ treating keys as positions is deprecated. In a future version, integer keys will always be treated as labels (consistent with DataFrame behavior). To access a value by position, use `ser.iloc[pos]`\n",
      "  if dev_data.iloc[i-2][0] == 1:\n"
     ]
    }
   ],
   "source": [
    "# executing viterbi algorithm\n",
    "for i in i_vals:\n",
    "    id = dev_data.iloc[i-1][0]\n",
    "    word = dev_data.iloc[i-1][1]\n",
    "    if id == 1:\n",
    "        p_val = {}\n",
    "        for tag in tags:\n",
    "            tkey = 'start,'+tag\n",
    "            ekey = ''+tag+','+word\n",
    "            if transition.get(tkey) is not None and emission.get(ekey) is not None:\n",
    "                val1 = Decimal(transition[tkey])\n",
    "                val2 = Decimal(emission[ekey])\n",
    "                p_val[tag] = val1 * val2\n",
    "        if emission.get(ekey) is None and len(p_val) == 0:\n",
    "            tkey = 'start,DT'\n",
    "            p_val['DT'] = Decimal(transition[tkey])\n",
    "        paths = {key: value for key, value in p_val.items() if value != 0.0}\n",
    "        if dev_data.iloc[i][0] == 1:\n",
    "            max_key_st = max(paths, key=paths.get)\n",
    "            main_path.append(max_key_st)          \n",
    "    else:                             \n",
    "        if dev_data.iloc[i][0] != 1:\n",
    "            next_step = {}\n",
    "            if dev_data.iloc[i-2][0] == 1:\n",
    "                next_step = calculateNextStepFromStart(paths, word)\n",
    "            else:\n",
    "                next_step = calculateNextStep(paths, word)\n",
    "            paths = getmaxpaths(next_step)\n",
    "        else:\n",
    "            next_step = calculateNextStep(paths, word)\n",
    "            paths = getmaxpaths(next_step)\n",
    "            max_key = max(paths, key=paths.get)\n",
    "            sep_path = max_key.split('|')\n",
    "            main_path.extend(sep_path)"
   ]
  },
  {
   "cell_type": "markdown",
   "metadata": {},
   "source": [
    "#### In order to Understand the Path Selection that I have done in this code, Let's take this particular instance:\n",
    "\n",
    "Path1 = ['VB', 'P']\n",
    "\n",
    "Path2 = ['DT', 'NN']\n",
    "\n",
    "Path 3 = ['DT', 'DT']\n",
    "\n",
    "#### Now, we evaluate the next step probability and they might look like this:\n",
    "\n",
    "'P' --> all zeros\n",
    "\n",
    "'NN' --> 'NN' : 0.25, 'VB' : 0.75\n",
    "\n",
    "'DT' --> 'VB' : 0.55\n",
    "\n",
    "#### now that we have all the possible paths with next step, we will eliminate paths that are either all zero probability or has lower probabilities among the paths with similar last tag:\n",
    "\n",
    "1. Check for all zeros: Since 'P' --> all zeros, the Path 1 is discarded.\n",
    "2. Check for same last tags: That is 'NN' --> 'VB' : 0.75 and 'DT' --> 'VB' : 0.55. Now that 0.75 > 0.55, we also discard path 3.\n",
    "\n",
    "#### Thus the new paths now are:\n",
    "\n",
    "Path1 = ['DT', 'NN', 'NN'] and its probability = 0.25\n",
    "\n",
    "Path2 = ['DT', 'NN', 'VB'] and its probability = 0.75"
   ]
  },
  {
   "cell_type": "code",
   "execution_count": 51,
   "metadata": {},
   "outputs": [],
   "source": [
    "#padding the main path\n",
    "if len(main_path) < dev_data.shape[0]:\n",
    "    pad = ['NNP']*(dev_data.shape[0]-len(main_path))\n",
    "    main_path.extend(pad)"
   ]
  },
  {
   "cell_type": "code",
   "execution_count": 52,
   "metadata": {},
   "outputs": [
    {
     "data": {
      "text/html": [
       "<div>\n",
       "<style scoped>\n",
       "    .dataframe tbody tr th:only-of-type {\n",
       "        vertical-align: middle;\n",
       "    }\n",
       "\n",
       "    .dataframe tbody tr th {\n",
       "        vertical-align: top;\n",
       "    }\n",
       "\n",
       "    .dataframe thead th {\n",
       "        text-align: right;\n",
       "    }\n",
       "</style>\n",
       "<table border=\"1\" class=\"dataframe\">\n",
       "  <thead>\n",
       "    <tr style=\"text-align: right;\">\n",
       "      <th></th>\n",
       "      <th>indexes</th>\n",
       "      <th>word</th>\n",
       "      <th>pred</th>\n",
       "    </tr>\n",
       "  </thead>\n",
       "  <tbody>\n",
       "    <tr>\n",
       "      <th>0</th>\n",
       "      <td>1</td>\n",
       "      <td>The</td>\n",
       "      <td>DT</td>\n",
       "    </tr>\n",
       "    <tr>\n",
       "      <th>1</th>\n",
       "      <td>2</td>\n",
       "      <td>Arizona</td>\n",
       "      <td>NNP</td>\n",
       "    </tr>\n",
       "    <tr>\n",
       "      <th>2</th>\n",
       "      <td>3</td>\n",
       "      <td>Corporations</td>\n",
       "      <td>NNS</td>\n",
       "    </tr>\n",
       "    <tr>\n",
       "      <th>3</th>\n",
       "      <td>4</td>\n",
       "      <td>Commission</td>\n",
       "      <td>NNP</td>\n",
       "    </tr>\n",
       "    <tr>\n",
       "      <th>4</th>\n",
       "      <td>5</td>\n",
       "      <td>authorized</td>\n",
       "      <td>VBD</td>\n",
       "    </tr>\n",
       "  </tbody>\n",
       "</table>\n",
       "</div>"
      ],
      "text/plain": [
       "   indexes          word pred\n",
       "0        1           The   DT\n",
       "1        2       Arizona  NNP\n",
       "2        3  Corporations  NNS\n",
       "3        4    Commission  NNP\n",
       "4        5    authorized  VBD"
      ]
     },
     "execution_count": 52,
     "metadata": {},
     "output_type": "execute_result"
    }
   ],
   "source": [
    "# creating a dataframe for final output\n",
    "viterbi_df = pd.DataFrame()\n",
    "viterbi_df['indexes'] = dev_data['indexes']\n",
    "viterbi_df['word'] = dev_data['word']\n",
    "viterbi_df['pred'] = main_path\n",
    "\n",
    "viterbi_df.head(5)"
   ]
  },
  {
   "cell_type": "code",
   "execution_count": 53,
   "metadata": {},
   "outputs": [],
   "source": [
    "# storing the final output locally\n",
    "with open('/Users/namyashah/Documents/USC Schooling/NLP/HW3/output/viterbi.out', 'w') as out:\n",
    "    for row in viterbi_df.values:\n",
    "        out.write(f\"{row[0]}\\t{row[1]}\\t{row[2]}\\n\")\n",
    "    out.write(f'\\n')"
   ]
  },
  {
   "cell_type": "markdown",
   "metadata": {},
   "source": [
    "### Evaluation and Analysis:\n",
    "\n",
    "The Accuracy acheived after running the Greedy Algorithm and Viterbi Algorithm is shown below:\n",
    "<p align=\"left\"><img alt=\"Accuracy from the Greedy and Viterbi Algorithm\" src=\"/Users/namyashah/Documents/USC Schooling/NLP/HW3/images/AccuracySS.png\" width=\"800\" height=\"200\"><p>\n",
    "\n",
    "The accuracy for Greedy Algorithm turns out to be lower than Viterbi Algorithm is because the Greedy Algorithm runs on the logic of picking up the maximum value of probability at each node. This often causes it to overlook the fact that our goal is to find a path with the maximum probability and not extract the maximum probabilities at each node. While Viterbi Algorithm goes forward to the next step and then picks up intermediate optimal paths leading to the final optimal path. Let's understand it with the following example: \n",
    "\n",
    "<!DOCTYPE html>\n",
    "<html>\n",
    "<head>\n",
    "<style>\n",
    "* {\n",
    "  box-sizing: border-box;\n",
    "}\n",
    ".column {\n",
    "  float: left;\n",
    "  width: 33.33%;\n",
    "  padding: 5px;\n",
    "}\n",
    "/* Clearfix (clear floats) */\n",
    ".row::after {\n",
    "  content: \"\";\n",
    "  clear: both;\n",
    "  display: table;\n",
    "}\n",
    "</style>\n",
    "</head>\n",
    "<body>\n",
    "<div class=\"row\">\n",
    "  <div class=\"column\">\n",
    "    <img alt=\"HMM Working\" src=\"/Users/namyashah/Documents/USC Schooling/NLP/HW3/images/IMG_0625.jpg\" width=\"500\" height=\"600\">\n",
    "  </div>\n",
    "  <div class=\"column\">\n",
    "    <img alt=\"HMM Working Greedy\" src=\"/Users/namyashah/Documents/USC Schooling/NLP/HW3/images/IMG_0626.jpg\" width=\"500\" height=\"600\">\n",
    "  </div>\n",
    "  <div class=\"column\">\n",
    "    <img alt=\"HMM Working Viterbi\" src=\"/Users/namyashah/Documents/USC Schooling/NLP/HW3/images/IMG_0628.jpg\" width=\"500\" height=\"600\">\n",
    "  </div>\n",
    "</div>"
   ]
  },
  {
   "cell_type": "markdown",
   "metadata": {},
   "source": []
  }
 ],
 "metadata": {
  "kernelspec": {
   "display_name": "Python 3",
   "language": "python",
   "name": "python3"
  },
  "language_info": {
   "codemirror_mode": {
    "name": "ipython",
    "version": 3
   },
   "file_extension": ".py",
   "mimetype": "text/x-python",
   "name": "python",
   "nbconvert_exporter": "python",
   "pygments_lexer": "ipython3",
   "version": "3.9.6"
  }
 },
 "nbformat": 4,
 "nbformat_minor": 2
}
